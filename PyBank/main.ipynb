{
 "cells": [
  {
   "cell_type": "code",
   "execution_count": 1,
   "id": "comic-negotiation",
   "metadata": {},
   "outputs": [],
   "source": [
    "#import functions\n",
    "from pathlib import Path\n",
    "import csv\n",
    "budget_csv = Path('C:/Users/Chris Chan/Documents/MONASH_BOOTCAMP/Assignments/Week_2/python-homework/PyBank/budget_data.csv')\n",
    "output = Path('C:/Users/Chris Chan/Documents/MONASH_BOOTCAMP/Assignments/Week_2/python-homework/PyBank/output.csv')\n",
    "\n",
    "#initialise required variables and set type\n",
    "months = 0\n",
    "total_net = 0.00\n",
    "previous_value = 0.00\n",
    "this_value = 0.00\n",
    "average_list = []\n",
    "months_list = []\n",
    "change = 0.00\n",
    "max_profit = 0.00\n",
    "max_profit_mth = str()\n",
    "min_profit = 0.00\n",
    "min_profit_mth = str()"
   ]
  },
  {
   "cell_type": "code",
   "execution_count": 2,
   "id": "brutal-consciousness",
   "metadata": {},
   "outputs": [],
   "source": [
    "#read csv\n",
    "with open(budget_csv, 'r') as csvfile:\n",
    "    csvreader = csv.reader(csvfile, delimiter=',')\n",
    "    header = next(csvreader)\n",
    "\n",
    "#loop to extract information        \n",
    "    for x in csvreader:\n",
    "        #Calculate Total Profit        \n",
    "        total_net += int(x[1])       \n",
    "        \n",
    "        #Calcualte Number of Months\n",
    "        months += 1\n",
    "        \n",
    "        #Calculate changes in profit/ loss\n",
    "        this_value = int(x[1])\n",
    "        \n",
    "        #Calculate profit/ Loss change and adding result to average_list. Ignores first line of data for the purposes of this calculation\n",
    "        if months == 1 :\n",
    "            previous_value = this_value\n",
    "        else :\n",
    "            change = this_value - previous_value\n",
    "            previous_value = this_value\n",
    "            average_list.append(change)\n",
    "    \n",
    "        #save a months_list\n",
    "        months_list.append(x[0])\n",
    "        \n",
    "        #calcualting maximum and minimum profit and obtaining the month  it's relevant too\n",
    "        if min_profit == 0:\n",
    "            min_profit = change\n",
    "            min_profit_month = x[0]\n",
    "        elif change < min_profit:\n",
    "            min_profit = change\n",
    "            min_profit_month = x[0]\n",
    "        elif change > max_profit:\n",
    "            max_profit = change\n",
    "            max_profit_month = x[0]\n",
    "        \n",
    "        #printing data to see what has been looped through.\n",
    "        #print(x)    "
   ]
  },
  {
   "cell_type": "code",
   "execution_count": 3,
   "id": "severe-young",
   "metadata": {},
   "outputs": [],
   "source": [
    "#coding to calculate average profit\n",
    "avg_profit = round(sum(average_list) / len(average_list),2)"
   ]
  },
  {
   "cell_type": "code",
   "execution_count": 4,
   "id": "combined-tiffany",
   "metadata": {},
   "outputs": [],
   "source": [
    "#diagnosis code to check values\n",
    "#max_profit\n",
    "#min_profit\n",
    "#max_profit_month\n",
    "#min_profit_month\n"
   ]
  },
  {
   "cell_type": "code",
   "execution_count": 5,
   "id": "floral-yacht",
   "metadata": {},
   "outputs": [
    {
     "name": "stdout",
     "output_type": "stream",
     "text": [
      "Financial Analysis\n",
      "----------------------------\n",
      "Total Months: 86\n",
      "Total: $38382578.0\n",
      "Average Change: $-2315.12\n",
      "Greatest Increase in Profits: Feb-2012 $1926159\n",
      "Greatest Decrease in Profits: Sep-2013 $-2196167\n"
     ]
    }
   ],
   "source": [
    "#output into python terminal\n",
    "\n",
    "print('Financial Analysis')\n",
    "print('----------------------------')\n",
    "print(f'Total Months: {months}')\n",
    "print(f'Total: ${total_net}')\n",
    "print(f'Average Change: ${avg_profit}')\n",
    "print(f'Greatest Increase in Profits: {max_profit_month} ${max_profit}')\n",
    "print(f'Greatest Decrease in Profits: {min_profit_month} ${min_profit}')\n"
   ]
  },
  {
   "cell_type": "code",
   "execution_count": 6,
   "id": "three-complement",
   "metadata": {},
   "outputs": [],
   "source": [
    "#output same result into csv\n",
    "\n",
    "with open(output, 'w', newline = '') as csvfile:\n",
    "    csvwriter = csv.writer(csvfile)\n",
    "    csvwriter.writerow(['Financial Analysis'])\n",
    "    csvwriter.writerow(['----------------------------'])   \n",
    "    csvwriter.writerow([f'Total Months: {months}'])\n",
    "    csvwriter.writerow([f'Total: ${total_net}'])\n",
    "    csvwriter.writerow([f'Average Change: ${avg_profit}'])\n",
    "    csvwriter.writerow([f'Greatest Increase in Profits: {max_profit_month} ${max_profit}'])\n",
    "    csvwriter.writerow([f'Greatest Decrease in Profits: {min_profit_month} ${min_profit}'])\n",
    "\n",
    "    "
   ]
  }
 ],
 "metadata": {
  "kernelspec": {
   "display_name": "Python 3",
   "language": "python",
   "name": "python3"
  },
  "language_info": {
   "codemirror_mode": {
    "name": "ipython",
    "version": 3
   },
   "file_extension": ".py",
   "mimetype": "text/x-python",
   "name": "python",
   "nbconvert_exporter": "python",
   "pygments_lexer": "ipython3",
   "version": "3.8.5"
  }
 },
 "nbformat": 4,
 "nbformat_minor": 5
}
