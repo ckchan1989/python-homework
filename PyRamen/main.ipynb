{
 "cells": [
  {
   "cell_type": "code",
   "execution_count": 1,
   "id": "diverse-playing",
   "metadata": {},
   "outputs": [],
   "source": [
    "#import functions\n",
    "from pathlib import Path\n",
    "import csv\n",
    "sales_csv = Path('C:/Users/Chris Chan/Documents/MONASH_BOOTCAMP/Assignments/Week_2/python-homework/PyRamen/sales_data.csv')\n",
    "menu_csv = Path('C:/Users/Chris Chan/Documents/MONASH_BOOTCAMP/Assignments/Week_2/python-homework/PyRamen/menu_data.csv')\n",
    "output = Path('C:/Users/Chris Chan/Documents/MONASH_BOOTCAMP/Assignments/Week_2/python-homework/PyRamen/output.csv')\n",
    "\n",
    "#initialise required variables and set type\n",
    "menu = []\n",
    "sales = []\n"
   ]
  },
  {
   "cell_type": "code",
   "execution_count": 2,
   "id": "assisted-april",
   "metadata": {},
   "outputs": [],
   "source": [
    "#read menu csv\n",
    "with open(menu_csv, 'r') as csvfile:\n",
    "    csvreader = csv.reader(csvfile, delimiter=',')\n",
    "    header = next(csvreader)\n",
    "    \n",
    "    #append values to menu list\n",
    "    for x in csvreader:\n",
    "        menu.append(x)"
   ]
  },
  {
   "cell_type": "code",
   "execution_count": 3,
   "id": "hungarian-export",
   "metadata": {},
   "outputs": [],
   "source": [
    "#read sales csv\n",
    "with open(sales_csv, 'r') as csvfile:\n",
    "    csvreader = csv.reader(csvfile, delimiter=',')\n",
    "    header = next(csvreader)\n",
    "    \n",
    "    #append values to menu list\n",
    "    for x in csvreader:\n",
    "        sales.append(x)"
   ]
  },
  {
   "cell_type": "code",
   "execution_count": 6,
   "id": "conventional-auditor",
   "metadata": {},
   "outputs": [],
   "source": [
    "#initialise required variables\n",
    "report = {}\n",
    "sales_item = str()\n",
    "quantity = 0\n",
    "item =str()\n",
    "price = float()\n",
    "cost = float()\n",
    "profit = float()\n",
    "\n",
    "for x in sales:\n",
    "    #set variables for sales_item and quantity to use for loops\n",
    "    sales_item = x[4]\n",
    "    quantity = int(x[3])\n",
    "\n",
    "    #create key and value pair if sales_item (i.e. ramen) doesn't exist\n",
    "    if  sales_item not in report: \n",
    "        report[sales_item] = {\"01-count\": 0, \"02-revenue\": 0, \"03-cogs\": 0, \"04-profit\": 0}\n",
    "    \n",
    "    #nested loop to bring in menu data set, obtain price, cost and profit. If statement within this loop to add values to report\n",
    "    for y in menu:\n",
    "        item = y[0]\n",
    "        price = float(y[3])\n",
    "        cost = float(y[4])\n",
    "        profit = price - cost\n",
    "        \n",
    "        if  sales_item == item: \n",
    "            report[sales_item]['01-count'] += quantity\n",
    "            report[sales_item][\"02-revenue\"] += price * quantity\n",
    "            report[sales_item][\"03-cogs\"] += cost * quantity\n",
    "            report[sales_item][\"04-profit\"] += profit * quantity\n",
    "    #below is statement required in instructions to print any non matches. I have commented it out as it takes forever to run\n",
    "        #else:\n",
    "          #  print(f'{sales_item} does not equal {item}! NO MATCH!')"
   ]
  },
  {
   "cell_type": "code",
   "execution_count": 10,
   "id": "institutional-processor",
   "metadata": {},
   "outputs": [],
   "source": [
    "#code to output to csv \"report.csv\"\n",
    "output = Path('C:/Users/Chris Chan/Documents/MONASH_BOOTCAMP/Assignments/Week_2/python-homework/PyRamen/report.csv')\n",
    "\n",
    "with open(output, 'w', newline = '') as csvfile:\n",
    "    csvwriter = csv.writer(csvfile)\n",
    "    for key, value in report.items():\n",
    "        csvwriter.writerow([key, value])"
   ]
  },
  {
   "cell_type": "code",
   "execution_count": null,
   "id": "higher-parcel",
   "metadata": {},
   "outputs": [],
   "source": []
  }
 ],
 "metadata": {
  "kernelspec": {
   "display_name": "Python 3",
   "language": "python",
   "name": "python3"
  },
  "language_info": {
   "codemirror_mode": {
    "name": "ipython",
    "version": 3
   },
   "file_extension": ".py",
   "mimetype": "text/x-python",
   "name": "python",
   "nbconvert_exporter": "python",
   "pygments_lexer": "ipython3",
   "version": "3.8.5"
  }
 },
 "nbformat": 4,
 "nbformat_minor": 5
}
