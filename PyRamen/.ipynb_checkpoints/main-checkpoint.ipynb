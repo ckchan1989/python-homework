{
 "cells": [
  {
   "cell_type": "code",
   "execution_count": 1,
   "id": "norwegian-action",
   "metadata": {},
   "outputs": [],
   "source": [
    "#import functions\n",
    "from pathlib import Path\n",
    "import csv\n",
    "sales_csv = Path('C:/Users/Chris Chan/Documents/MONASH_BOOTCAMP/Assignments/Week_2/python-homework/PyRamen/sales_data.csv')\n",
    "menu_csv = Path('C:/Users/Chris Chan/Documents/MONASH_BOOTCAMP/Assignments/Week_2/python-homework/PyRamen/menu_data.csv')\n",
    "output = Path('C:/Users/Chris Chan/Documents/MONASH_BOOTCAMP/Assignments/Week_2/python-homework/PyRamen/output.csv')\n",
    "\n",
    "#initialise required variables and set type\n",
    "menu = []\n",
    "sales = []\n"
   ]
  },
  {
   "cell_type": "code",
   "execution_count": 2,
   "id": "altered-punch",
   "metadata": {},
   "outputs": [],
   "source": [
    "#read menu csv\n",
    "with open(menu_csv, 'r') as csvfile:\n",
    "    csvreader = csv.reader(csvfile, delimiter=',')\n",
    "    header = next(csvreader)\n",
    "    \n",
    "    #append values to menu list\n",
    "    for x in csvreader:\n",
    "        menu.append(x)"
   ]
  },
  {
   "cell_type": "code",
   "execution_count": 3,
   "id": "pleased-hepatitis",
   "metadata": {},
   "outputs": [],
   "source": [
    "#read sales csv\n",
    "with open(sales_csv, 'r') as csvfile:\n",
    "    csvreader = csv.reader(csvfile, delimiter=',')\n",
    "    header = next(csvreader)\n",
    "    \n",
    "    #append values to menu list\n",
    "    for x in csvreader:\n",
    "        sales.append(x)"
   ]
  },
  {
   "cell_type": "code",
   "execution_count": 4,
   "id": "ordinary-croatia",
   "metadata": {},
   "outputs": [
    {
     "data": {
      "text/plain": [
       "[['1', '01-01-2017', '7437926611570799', '1', 'spicy miso ramen'],\n",
       " ['2', '01-01-2017', '7437926611570799', '1', 'spicy miso ramen'],\n",
       " ['3', '01-01-2017', '8421920068932819', '3', 'tori paitan ramen'],\n",
       " ['4', '01-01-2017', '8421920068932819', '3', 'tori paitan ramen'],\n",
       " ['5', '01-01-2017', '4787310681569648', '1', 'truffle butter ramen'],\n",
       " ['6', '01-01-2017', '4787310681569648', '1', 'truffle butter ramen'],\n",
       " ['7', '01-01-2017', '8252818705821725', '1', 'tonkotsu ramen'],\n",
       " ['8', '01-01-2017', '8252818705821725', '1', 'tonkotsu ramen'],\n",
       " ['9', '01-01-2017', '3119034881407323', '1', 'vegetarian spicy miso'],\n",
       " ['10', '01-01-2017', '3119034881407323', '1', 'vegetarian spicy miso']]"
      ]
     },
     "execution_count": 4,
     "metadata": {},
     "output_type": "execute_result"
    }
   ],
   "source": [
    "sales[:10]"
   ]
  },
  {
   "cell_type": "code",
   "execution_count": 5,
   "id": "statistical-infrared",
   "metadata": {},
   "outputs": [
    {
     "data": {
      "text/plain": [
       "[['takoyaki',\n",
       "  'appetizers',\n",
       "  'six octopus-filled fried fritters, kewpie mayo, okonomi sauce, aonori, katsuobushi, nori',\n",
       "  '6',\n",
       "  '3'],\n",
       " ['rock shrimp tempura',\n",
       "  'appetizers',\n",
       "  'deep fried tempura battered rock shrimp, sriracha mayo, nisume sauce, aonori, scallions',\n",
       "  '6',\n",
       "  '3'],\n",
       " ['soft-shell crab tempura',\n",
       "  'appetizers',\n",
       "  'single deep fried soft-shell crab, tsuyu dipping broth',\n",
       "  '6',\n",
       "  '3'],\n",
       " ['ebi katsu shrimp bao',\n",
       "  'appetizers',\n",
       "  'two steamed buns, panko-crusted fried shrimp patties, yuzu-kosho mayo, aonori, scallions',\n",
       "  '6',\n",
       "  '3'],\n",
       " ['nagomi shoyu',\n",
       "  'entree',\n",
       "  'shoyu seasoned clear double stock (organic chick broth + house dashi); slow braised niman ranch pork belly, hanjuku tamago, nori, menma, scallions',\n",
       "  '11',\n",
       "  '5'],\n",
       " ['shio ramen',\n",
       "  'entree',\n",
       "  'sea salt seasoned clear double stock (organic chicken broth + house dashi); slow braised niman ranch pork belly, hanjuku tamago, kikurage, nori, scallions',\n",
       "  '11',\n",
       "  '5'],\n",
       " ['spicy miso ramen',\n",
       "  'entree',\n",
       "  'house togarashi miso blend + niman ranch pork bone stock; slow braised niman ranch pork belly, hanjuku tamago, kikurage, nori, scallions',\n",
       "  '12',\n",
       "  '5'],\n",
       " ['vegetarian spicy miso',\n",
       "  'entree',\n",
       "  'house togarashi miso blend + vegan dashi; tempura fried tofu, sweet corn, edamame, kikurage, nori, scallions; organic soy milk upon request',\n",
       "  '12',\n",
       "  '5'],\n",
       " ['miso crab ramen',\n",
       "  'entree',\n",
       "  'house miso crab blend + vegan dashi; slow braised niman ranch pork belly, crab meat, hanjuku tamago, kikurage, nori, scallions',\n",
       "  '12',\n",
       "  '6'],\n",
       " ['soft-shell miso crab ramen',\n",
       "  'entree',\n",
       "  'house miso crab blend + vegan dashi; fried whole soft-shell crab, hanjuku tamago, kikurage, nori, scallions',\n",
       "  '14',\n",
       "  '7'],\n",
       " ['tori paitan ramen',\n",
       "  'entree',\n",
       "  'rich, shoyu seasoned double stock (organic chicken broth + house dashi); slow braised niman ranch pork belly, hanuku tamago, kikurage, nori, scllaions',\n",
       "  '13',\n",
       "  '6'],\n",
       " ['tonkotsu ramen',\n",
       "  'entree',\n",
       "  'rich, shoyi seasoned niman ranch pork bone stock; slow braised niman ranch pork belly, hanjuku tamago, kikurage, nori, spring radish, scallions',\n",
       "  '13',\n",
       "  '6'],\n",
       " ['burnt garlic tonkotsu ramen',\n",
       "  'entree',\n",
       "  'rich, shoyi and burnt garlic seasoned niman ranch pork bone stock; slow braised niman ranch pork belly, hanjuku tamago, kikurage, sweet corn, nori, scallions',\n",
       "  '14',\n",
       "  '6'],\n",
       " ['vegetarian curry + king trumpet mushroom ramen',\n",
       "  'entree',\n",
       "  'house curry blend + vegan dashi; fried king trumpet mushroom, tempura fried tofu, mung bean sprouts, kikurage, nori, scallions',\n",
       "  '13',\n",
       "  '7'],\n",
       " ['truffle butter ramen',\n",
       "  'entree',\n",
       "  'rich, shoyu seasoned niman ranch prok bone stock; truffle compound butter, slow braised niman ranch pork belly, kikurage, sweet corn, nori, scallions',\n",
       "  '14',\n",
       "  '7'],\n",
       " ['green tea', 'drinks', 'green tea', '2.5', '1'],\n",
       " ['coke', 'drinks', 'Coca Cola soda', '2', '1'],\n",
       " ['black sesame ice cream',\n",
       "  'desserts',\n",
       "  'house-made black sesame ice cream, valrhona chocolate threads, complimentary hojicha',\n",
       "  '5',\n",
       "  '2'],\n",
       " ['matcha ice cream',\n",
       "  'desserts',\n",
       "  'house-made matcha ice cream, white chocolate pearls; complimentary hojicha',\n",
       "  '5',\n",
       "  '2'],\n",
       " ['mango mochi ice cream',\n",
       "  'desserts',\n",
       "  'two rice-cake bonbons filled with strawberry ice cream; complimentary hojicha',\n",
       "  '5',\n",
       "  '2'],\n",
       " ['strawberry mochi ice cream',\n",
       "  'desserts',\n",
       "  'two rice-cake bonbons filled with strawberry ice cream; complimentary hojicha',\n",
       "  '5',\n",
       "  '2'],\n",
       " ['black sesame creme brulee',\n",
       "  'desserts',\n",
       "  'house made black sesame infused creme brulee; complimentary hojicha',\n",
       "  '6',\n",
       "  '3']]"
      ]
     },
     "execution_count": 5,
     "metadata": {},
     "output_type": "execute_result"
    }
   ],
   "source": [
    "menu[10:]"
   ]
  },
  {
   "cell_type": "code",
   "execution_count": 7,
   "id": "younger-howard",
   "metadata": {},
   "outputs": [],
   "source": [
    "report = {}\n",
    "sales_item = str()\n",
    "quantity = 0\n",
    "\n",
    "for x in sales:\n",
    "    sales_item = x[4]\n",
    "    quantity = int(x[3])\n",
    "\n",
    "    #print(sales_item)\n",
    "    if  sales_item not in report: \n",
    "        report[sales_item] = {\"01-count\": 0, \"02-revenue\": 0, \"03-cogs\": 0, \"04-profit\": 0}\n",
    "\n",
    "    for y in menu:\n",
    "        item = y[0]\n",
    "        price = float(y[3])\n",
    "        cost = float(y[4])\n",
    "        profit = price - cost\n",
    "        \n",
    "        if  sales_item == item: \n",
    "            report[sales_item]['01-count'] += quantity\n",
    "            report[sales_item][\"02-revenue\"] += price * quantity\n",
    "            report[sales_item][\"03-cogs\"] += cost * quantity\n",
    "            report[sales_item][\"04-profit\"] += profit * quantity\n",
    "        #else:\n",
    "          #  print(f'{sales_item} does not equal {item}! NO MATCH!')\n",
    "\n",
    "   \n"
   ]
  },
  {
   "cell_type": "code",
   "execution_count": 9,
   "id": "rough-former",
   "metadata": {},
   "outputs": [
    {
     "data": {
      "text/plain": [
       "9238"
      ]
     },
     "execution_count": 9,
     "metadata": {},
     "output_type": "execute_result"
    }
   ],
   "source": [
    "D"
   ]
  },
  {
   "cell_type": "code",
   "execution_count": null,
   "id": "saving-reflection",
   "metadata": {},
   "outputs": [],
   "source": [
    "report"
   ]
  },
  {
   "cell_type": "code",
   "execution_count": null,
   "id": "korean-guard",
   "metadata": {},
   "outputs": [],
   "source": []
  }
 ],
 "metadata": {
  "kernelspec": {
   "display_name": "Python 3",
   "language": "python",
   "name": "python3"
  },
  "language_info": {
   "codemirror_mode": {
    "name": "ipython",
    "version": 3
   },
   "file_extension": ".py",
   "mimetype": "text/x-python",
   "name": "python",
   "nbconvert_exporter": "python",
   "pygments_lexer": "ipython3",
   "version": "3.8.5"
  }
 },
 "nbformat": 4,
 "nbformat_minor": 5
}
